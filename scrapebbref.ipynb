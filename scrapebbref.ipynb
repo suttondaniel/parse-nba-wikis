{
 "metadata": {
  "language_info": {
   "codemirror_mode": {
    "name": "ipython",
    "version": 3
   },
   "file_extension": ".py",
   "mimetype": "text/x-python",
   "name": "python",
   "nbconvert_exporter": "python",
   "pygments_lexer": "ipython3",
   "version": "3.8.5-final"
  },
  "orig_nbformat": 2,
  "kernelspec": {
   "name": "python_defaultSpec_1600929292861",
   "display_name": "Python 3.8.5 64-bit ('site_env': conda)"
  }
 },
 "nbformat": 4,
 "nbformat_minor": 2,
 "cells": [
  {
   "cell_type": "code",
   "execution_count": 9,
   "metadata": {},
   "outputs": [
    {
     "output_type": "error",
     "ename": "ModuleNotFoundError",
     "evalue": "No module named 'pandas'",
     "traceback": [
      "\u001b[0;31m---------------------------------------------------------------------------\u001b[0m",
      "\u001b[0;31mModuleNotFoundError\u001b[0m                       Traceback (most recent call last)",
      "\u001b[0;32m<ipython-input-9-8ae8c8a12056>\u001b[0m in \u001b[0;36m<module>\u001b[0;34m\u001b[0m\n\u001b[0;32m----> 1\u001b[0;31m \u001b[0;32mimport\u001b[0m \u001b[0mpandas\u001b[0m \u001b[0;32mas\u001b[0m \u001b[0mpd\u001b[0m\u001b[0;34m\u001b[0m\u001b[0;34m\u001b[0m\u001b[0m\n\u001b[0m\u001b[1;32m      2\u001b[0m \u001b[0;32mimport\u001b[0m \u001b[0mrequests\u001b[0m\u001b[0;34m\u001b[0m\u001b[0;34m\u001b[0m\u001b[0m\n\u001b[1;32m      3\u001b[0m \u001b[0;32mfrom\u001b[0m \u001b[0mbs4\u001b[0m \u001b[0;32mimport\u001b[0m \u001b[0mBeautifulSoup\u001b[0m\u001b[0;34m\u001b[0m\u001b[0;34m\u001b[0m\u001b[0m\n\u001b[1;32m      4\u001b[0m \u001b[0;32mimport\u001b[0m \u001b[0municodedata\u001b[0m\u001b[0;34m\u001b[0m\u001b[0;34m\u001b[0m\u001b[0m\n\u001b[1;32m      5\u001b[0m \u001b[0;32mfrom\u001b[0m \u001b[0murllib\u001b[0m\u001b[0;34m.\u001b[0m\u001b[0mrequest\u001b[0m \u001b[0;32mimport\u001b[0m \u001b[0murlopen\u001b[0m\u001b[0;34m\u001b[0m\u001b[0;34m\u001b[0m\u001b[0m\n",
      "\u001b[0;31mModuleNotFoundError\u001b[0m: No module named 'pandas'"
     ]
    }
   ],
   "source": [
    "import pandas as pd\n",
    "import requests\n",
    "from bs4 import BeautifulSoup\n",
    "import unicodedata\n",
    "from urllib.request import urlopen\n",
    "import numpy as np\n",
    "import datetime as dt"
   ]
  },
  {
   "cell_type": "code",
   "execution_count": 1,
   "metadata": {},
   "outputs": [
    {
     "output_type": "error",
     "ename": "NameError",
     "evalue": "name 'urlopen' is not defined",
     "traceback": [
      "\u001b[0;31m---------------------------------------------------------------------------\u001b[0m",
      "\u001b[0;31mNameError\u001b[0m                                 Traceback (most recent call last)",
      "\u001b[0;32m<timed exec>\u001b[0m in \u001b[0;36m<module>\u001b[0;34m\u001b[0m\n",
      "\u001b[0;31mNameError\u001b[0m: name 'urlopen' is not defined"
     ]
    }
   ],
   "source": [
    "%%time\n",
    "players_df = []\n",
    "alphanotx = 'abcdefghijklmnopqrstuvwyz'\n",
    "\n",
    "for letter in alphanotx:\n",
    "    url = f'https://www.basketball-reference.com/players/{letter}/'\n",
    "    html = urlopen(url)\n",
    "    soup = BeautifulSoup(html, 'html.parser')\n",
    "    for record in soup.find_all('tr'):\n",
    "        try:    #Crude way of handling NavigableString Error that pop ups with these multi tag lines \n",
    "            player = []\n",
    "            player.append(record.contents[0].text)\n",
    "            player.append(re.findall(r\"/./(.*).html\", str(record.contents[0]))[0])\n",
    "            player.append(record.contents[1].text)        \n",
    "            player.append(record.contents[2].text)       \n",
    "            player.append(record.contents[3].text)        \n",
    "            player.append(record.contents[4].text)\n",
    "            player.append(record.contents[5].text)\n",
    "            player.append(record.contents[6].text)\n",
    "            player.append(record.contents[7].text)\n",
    "            players_df.append(player)\n",
    "        except:\n",
    "            pass"
   ]
  },
  {
   "cell_type": "code",
   "execution_count": null,
   "metadata": {},
   "outputs": [],
   "source": [
    "cols = ['player', 'player_code', 'rookie_yr', 'final_yr', 'pos', 'height', 'weight', 'bday', 'college']\n",
    "players = pd.DataFrame(data=players_df, columns=cols)"
   ]
  },
  {
   "cell_type": "code",
   "execution_count": null,
   "metadata": {},
   "outputs": [],
   "source": [
    "players.bday = pd.to_datetime(players.bday)"
   ]
  },
  {
   "cell_type": "code",
   "execution_count": null,
   "metadata": {},
   "outputs": [],
   "source": [
    "from basketball_reference_web_scraper import client\n",
    "from basketball_reference_web_scraper.data import OutputType\n",
    "\n",
    "#2004 - 2020\n",
    "#hasleud01 - haslem\n",
    "#jamesle01 - lebron\n",
    "#duranke01 - KD\n",
    "#curryst01 - curry\n",
    "#willima01 - mo williams\n",
    "#doncilu01 - luka\n",
    "#mcgratr01 - tmac\n",
    "#lillada01 - dame\n",
    "\n",
    "def getSeasonHigh(season):\n",
    "    seasonHigh = client.regular_season_player_box_scores(\n",
    "    player_identifier='lillada01',\n",
    "        season_end_year=season,)\n",
    "    gameTotals = [dict_item['points_scored'] for dict_item in seasonHigh] \n",
    "\n",
    "    return max(gameTotals)\n",
    "\n",
    "def getCareerHigh(rookieYr, recentYr):\n",
    "    seasonHighs = []\n",
    "    for yr in range(rookieYr, recentYr):\n",
    "        seasonHighs.append(getSeasonHigh(yr))\n",
    "    return max(seasonHighs)\n",
    "\n",
    "print(getCareerHigh(2013, 2020))\n"
   ]
  }
 ]
}