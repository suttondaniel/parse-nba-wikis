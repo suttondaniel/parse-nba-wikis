{
 "metadata": {
  "language_info": {
   "codemirror_mode": {
    "name": "ipython",
    "version": 3
   },
   "file_extension": ".py",
   "mimetype": "text/x-python",
   "name": "python",
   "nbconvert_exporter": "python",
   "pygments_lexer": "ipython3",
   "version": "3.8.5-final"
  },
  "orig_nbformat": 2,
  "kernelspec": {
   "name": "python_defaultSpec_1600929635174",
   "display_name": "Python 3.8.5 64-bit ('nbaenv': conda)"
  }
 },
 "nbformat": 4,
 "nbformat_minor": 2,
 "cells": [
  {
   "cell_type": "code",
   "execution_count": 2,
   "metadata": {},
   "outputs": [],
   "source": [
    "import pandas as pd\n",
    "import requests\n",
    "from bs4 import BeautifulSoup\n",
    "import unicodedata\n",
    "from urllib.request import urlopen\n",
    "import numpy as np\n",
    "import datetime as dt"
   ]
  },
  {
   "cell_type": "code",
   "execution_count": 14,
   "metadata": {
    "tags": []
   },
   "outputs": [],
   "source": [
    "players_df = []\n",
    "alphanotx = 'abcdefghijklmnopqrstuvwyz'\n",
    "\n",
    "for letter in 'alphanotx':\n",
    "    url = f'https://www.basketball-reference.com/players/{letter}/'\n",
    "    html = urlopen(url)\n",
    "    soup = BeautifulSoup(html, 'html.parser')\n",
    "    for record in soup.find_all('tr'):\n",
    "        player = []\n",
    "        try:\n",
    "            player.append(record.contents[0].text)\n",
    "            #player.append(re.findall(r\"/./(.*).html\", str(record.contents[0]))[0]) # this line was for getting the BBREF player code...it was working at one point but for the sake of time let's ignore it for now.  \n",
    "            player.append(record.contents[1].text)        \n",
    "            player.append(record.contents[2].text)       \n",
    "            player.append(record.contents[3].text)        \n",
    "            player.append(record.contents[4].text)\n",
    "            player.append(record.contents[5].text)\n",
    "            player.append(record.contents[6].text)\n",
    "            player.append(record.contents[7].text)\n",
    "            players_df.append(player)\n",
    "        except:\n",
    "            pass"
   ]
  },
  {
   "cell_type": "code",
   "execution_count": 17,
   "metadata": {},
   "outputs": [],
   "source": [
    "cols = ['player', 'rookie_yr', 'final_yr', 'pos', 'height', 'weight', 'bday', 'college']\n",
    "players = pd.DataFrame(data=players_df, columns=cols)"
   ]
  },
  {
   "cell_type": "code",
   "execution_count": 21,
   "metadata": {},
   "outputs": [],
   "source": [
    "players.to_csv('nba_players_bbref.csv')"
   ]
  },
  {
   "cell_type": "code",
   "execution_count": null,
   "metadata": {},
   "outputs": [],
   "source": [
    "players.bday = pd.to_datetime(players.bday)"
   ]
  },
  {
   "cell_type": "code",
   "execution_count": null,
   "metadata": {},
   "outputs": [],
   "source": [
    "from basketball_reference_web_scraper import client\n",
    "from basketball_reference_web_scraper.data import OutputType\n",
    "\n",
    "#2004 - 2020\n",
    "#hasleud01 - haslem\n",
    "#jamesle01 - lebron\n",
    "#duranke01 - KD\n",
    "#curryst01 - curry\n",
    "#willima01 - mo williams\n",
    "#doncilu01 - luka\n",
    "#mcgratr01 - tmac\n",
    "#lillada01 - dame\n",
    "\n",
    "def getSeasonHigh(season):\n",
    "    seasonHigh = client.regular_season_player_box_scores(\n",
    "    player_identifier='lillada01',\n",
    "        season_end_year=season,)\n",
    "    gameTotals = [dict_item['points_scored'] for dict_item in seasonHigh] \n",
    "\n",
    "    return max(gameTotals)\n",
    "\n",
    "def getCareerHigh(rookieYr, recentYr):\n",
    "    seasonHighs = []\n",
    "    for yr in range(rookieYr, recentYr):\n",
    "        seasonHighs.append(getSeasonHigh(yr))\n",
    "    return max(seasonHighs)\n",
    "\n",
    "print(getCareerHigh(2013, 2020))\n"
   ]
  }
 ]
}