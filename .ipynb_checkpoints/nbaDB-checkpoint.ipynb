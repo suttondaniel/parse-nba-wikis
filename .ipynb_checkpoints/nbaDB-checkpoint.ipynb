{
 "cells": [
  {
   "cell_type": "code",
   "execution_count": 1,
   "metadata": {},
   "outputs": [],
   "source": [
    "import sys\n",
    "import pandas as pd\n",
    "import requests\n",
    "import urllib.request\n",
    "import time\n",
    "from bs4 import BeautifulSoup\n",
    "import numpy as np\n",
    "import re\n",
    "import unicodedata\n",
    "import datetime as dt\n",
    "import lxml\n",
    "from urllib.request import urlopen\n"
   ]
  },
  {
   "cell_type": "code",
   "execution_count": 2,
   "metadata": {},
   "outputs": [],
   "source": [
    "'''\n",
    "Get NBA team names and put them in a list format\n",
    "'''\n",
    "nba_tables = pd.read_html('https://en.wikipedia.org/wiki/National_Basketball_Association#Teams', index_col=0, header=0)\n",
    "teams = nba_tables[3]\n",
    "teams.reset_index(inplace=True)\n",
    "teams = teams[teams.Team != 'Western Conference']\n",
    "teams = teams.iloc[1:, 1:-1]\n",
    "teams_list = list(teams.Team)\n",
    "clean_teams = [team.replace(' ', '_') for team in teams_list]"
   ]
  },
  {
   "cell_type": "code",
   "execution_count": 3,
   "metadata": {},
   "outputs": [],
   "source": [
    "nba_players = []"
   ]
  },
  {
   "cell_type": "code",
   "execution_count": 4,
   "metadata": {
    "tags": []
   },
   "outputs": [],
   "source": [
    "'''\n",
    "Get roster table from each team's wiki page\n",
    "'''\n",
    "for team in clean_teams:\n",
    "    url = f'https://en.wikipedia.org/wiki/{team}'\n",
    "    html = urlopen(url)\n",
    "    soup = BeautifulSoup(html, 'lxml')\n",
    "    tables = soup.find_all('table', {\"class\": \"toccolours\"})\n",
    "    table = tables[0]\n",
    "    tbody = table.find_all('tbody')[0]\n",
    "    actualtable = tbody.find_all('table')[0]\n",
    "    actualrows = actualtable.find_all('tr')[1:]\n",
    "    for tr in actualrows:\n",
    "        td = tr.find_all('td')\n",
    "        row = [unicodedata.normalize('NFKD', i.text.strip()) for i in td]   # gets rid of the weird \\x0 spaces\n",
    "        row.append(team.replace('_', ' '))          # add column for team.  may just want to use 2nd index later \n",
    "        nba_players.append(row)"
   ]
  },
  {
   "cell_type": "code",
   "execution_count": 5,
   "metadata": {},
   "outputs": [],
   "source": [
    "headers = ['position', 'number', 'name', 'height', 'weight', 'dob', 'college', 'team']"
   ]
  },
  {
   "cell_type": "code",
   "execution_count": 6,
   "metadata": {},
   "outputs": [],
   "source": [
    "nba_df = pd.DataFrame(data=nba_players, columns=headers)"
   ]
  },
  {
   "cell_type": "code",
   "execution_count": 7,
   "metadata": {},
   "outputs": [],
   "source": [
    "nba_df.dob = nba_df.dob.str.replace('–', '-')       # need to find a way around those long hyphens besides manually\n",
    "nba_df.dob = pd.to_datetime(nba_df.dob)"
   ]
  },
  {
   "cell_type": "code",
   "execution_count": 8,
   "metadata": {},
   "outputs": [],
   "source": [
    "nba_df['height_in'] = nba_df['height'].apply(lambda x: x.split('(')[0])\n",
    "nba_df.height_in = nba_df['height'].apply(lambda x: (int(x.split(' ')[0]) * 12) + (int(x.split(' ')[2])))\n",
    "nba_df['weight_int'] = nba_df['weight'].apply(lambda x: int(x.split(' ')[0]))\n",
    "nba_df['bmi'] = (703 * nba_df.weight_int) / (nba_df.height_in**2)"
   ]
  },
  {
   "cell_type": "code",
   "execution_count": 9,
   "metadata": {},
   "outputs": [
    {
     "data": {
      "text/plain": [
       "team\n",
       "Minnesota Timberwolves   1996-02-04 13:30:00.000000000\n",
       "Atlanta Hawks            1995-11-03 16:00:00.000000000\n",
       "Charlotte Hornets        1995-07-21 07:30:00.000000000\n",
       "Memphis Grizzlies        1995-07-03 05:38:49.411764736\n",
       "Phoenix Suns             1995-06-25 09:00:00.000000000\n",
       "New York Knicks          1995-06-03 22:35:17.647058816\n",
       "Chicago Bulls            1995-04-11 09:52:56.470588288\n",
       "Boston Celtics           1994-12-30 00:00:00.000000000\n",
       "Cleveland Cavaliers      1994-11-22 18:21:10.588235264\n",
       "Washington Wizards       1994-11-19 00:00:00.000000000\n",
       "Oklahoma City Thunder    1994-10-29 12:42:21.176470528\n",
       "Golden State Warriors    1994-10-12 12:55:23.076923136\n",
       "Detroit Pistons          1994-10-11 11:17:38.823529472\n",
       "Portland Trail Blazers   1994-09-27 09:52:56.470588288\n",
       "Indiana Pacers           1994-08-21 08:28:14.117647104\n",
       "Denver Nuggets           1994-07-18 14:07:03.529411712\n",
       "New Orleans Pelicans     1994-06-27 18:40:00.000000000\n",
       "Utah Jazz                1994-01-11 08:28:14.117647104\n",
       "Sacramento Kings         1993-12-19 07:03:31.764705920\n",
       "Orlando Magic            1993-12-09 21:10:35.294117632\n",
       "Toronto Raptors          1993-11-21 22:35:17.647058816\n",
       "San Antonio Spurs        1993-09-11 00:00:00.000000000\n",
       "Philadelphia 76ers       1993-07-19 15:31:45.882352896\n",
       "Brooklyn Nets            1992-12-16 18:17:08.571428608\n",
       "Miami Heat               1992-12-02 00:00:00.000000000\n",
       "Dallas Mavericks         1992-09-28 10:40:00.000000000\n",
       "Los Angeles Clippers     1992-04-22 00:00:00.000000000\n",
       "Los Angeles Lakers       1991-03-05 13:20:00.000000000\n",
       "Milwaukee Bucks          1990-11-05 12:42:21.176470528\n",
       "Houston Rockets          1990-01-09 11:17:38.823529472\n",
       "Name: dob_ns, dtype: datetime64[ns]"
      ]
     },
     "execution_count": 9,
     "metadata": {},
     "output_type": "execute_result"
    }
   ],
   "source": [
    "'''\n",
    "YOUNGEST TEAM IN NBA - METHOD #1: \n",
    "converts date of birth to nanoseconds in order to run the mean, then converts back to dt\n",
    "'''\n",
    "nba_df['dob_ns'] = nba_df.dob.values.astype(np.int64)\n",
    "pd.to_datetime(nba_df.groupby(by='team')['dob_ns'].mean()).sort_values(ascending=False)"
   ]
  },
  {
   "cell_type": "code",
   "execution_count": 10,
   "metadata": {},
   "outputs": [],
   "source": [
    "'''\n",
    "YOUNGEST TEAM IN NBA - METHOD #2: \n",
    "subtracts each player's DoB from right now which creates a timedelta object, then calculate a year figure in int format\n",
    "'''\n",
    "nba_df['current_age'] = nba_df.dob.apply(lambda x: (dt.datetime.now() - x).days / 365.25)"
   ]
  },
  {
   "cell_type": "code",
   "execution_count": 11,
   "metadata": {},
   "outputs": [
    {
     "data": {
      "text/plain": [
       "pandas.core.series.Series"
      ]
     },
     "execution_count": 11,
     "metadata": {},
     "output_type": "execute_result"
    }
   ],
   "source": [
    "# Top 5 youngest teams\n",
    "type(nba_df.groupby('team')['current_age'].mean().sort_values(ascending=True).head())"
   ]
  },
  {
   "cell_type": "code",
   "execution_count": 12,
   "metadata": {},
   "outputs": [
    {
     "data": {
      "text/plain": [
       "team\n",
       "Houston Rockets         30.635262\n",
       "Milwaukee Bucks         29.813746\n",
       "Los Angeles Lakers      29.485132\n",
       "Los Angeles Clippers    28.353183\n",
       "Dallas Mavericks        27.916648\n",
       "Name: current_age, dtype: float64"
      ]
     },
     "execution_count": 12,
     "metadata": {},
     "output_type": "execute_result"
    }
   ],
   "source": [
    "# Top 5 oldest teams\n",
    "nba_df.groupby('team')['current_age'].mean().sort_values(ascending=False).head()"
   ]
  },
  {
   "cell_type": "code",
   "execution_count": 13,
   "metadata": {},
   "outputs": [
    {
     "data": {
      "text/plain": [
       "team\n",
       "Denver Nuggets            225.588235\n",
       "Milwaukee Bucks           225.235294\n",
       "Boston Celtics            224.823529\n",
       "Portland Trail Blazers    223.882353\n",
       "Cleveland Cavaliers       222.235294\n",
       "Name: weight_int, dtype: float64"
      ]
     },
     "execution_count": 13,
     "metadata": {},
     "output_type": "execute_result"
    }
   ],
   "source": [
    "# Top 5 heaviest teams\n",
    "nba_df.groupby('team')['weight_int'].mean().sort_values(ascending=False).head()"
   ]
  },
  {
   "cell_type": "code",
   "execution_count": 14,
   "metadata": {},
   "outputs": [
    {
     "data": {
      "text/plain": [
       "team\n",
       "Portland Trail Blazers    79.588235\n",
       "Denver Nuggets            79.529412\n",
       "Chicago Bulls             79.176471\n",
       "San Antonio Spurs         79.000000\n",
       "Memphis Grizzlies         78.882353\n",
       "Name: height_in, dtype: float64"
      ]
     },
     "execution_count": 14,
     "metadata": {},
     "output_type": "execute_result"
    }
   ],
   "source": [
    "# Top 5 tallest teams\n",
    "nba_df.groupby('team')['height_in'].mean().sort_values(ascending=False).head()"
   ]
  },
  {
   "cell_type": "code",
   "execution_count": 15,
   "metadata": {},
   "outputs": [
    {
     "data": {
      "text/plain": [
       "college\n",
       "Kentucky          28\n",
       "Duke              24\n",
       "North Carolina    14\n",
       "UCLA              13\n",
       "Texas             11\n",
       "Kansas            11\n",
       "France            10\n",
       "Michigan          10\n",
       "Indiana            9\n",
       "Arizona            9\n",
       "dtype: int64"
      ]
     },
     "execution_count": 15,
     "metadata": {},
     "output_type": "execute_result"
    }
   ],
   "source": [
    "# Top 10 colleges by representation\n",
    "nba_df.pivot_table(index='college', aggfunc='size').sort_values(ascending=False).head(10)"
   ]
  },
  {
   "cell_type": "code",
   "execution_count": 22,
   "metadata": {},
   "outputs": [],
   "source": [
    "nba_df.to_csv('nba_df.csv')"
   ]
  },
  {
   "cell_type": "code",
   "execution_count": null,
   "metadata": {},
   "outputs": [],
   "source": []
  }
 ],
 "metadata": {
  "kernelspec": {
   "display_name": "Python 3",
   "language": "python",
   "name": "python3"
  },
  "language_info": {
   "codemirror_mode": {
    "name": "ipython",
    "version": 3
   },
   "file_extension": ".py",
   "mimetype": "text/x-python",
   "name": "python",
   "nbconvert_exporter": "python",
   "pygments_lexer": "ipython3",
   "version": "3.8.3"
  }
 },
 "nbformat": 4,
 "nbformat_minor": 4
}
