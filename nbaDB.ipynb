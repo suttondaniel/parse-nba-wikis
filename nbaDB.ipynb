{
 "cells": [
  {
   "cell_type": "markdown",
   "metadata": {},
   "source": [
    "## there's always stuff that can be done\n",
    "\n",
    "    1. create aliases for opening your different notes packages\n",
    "    2. grep command.  a bash command for searching your notes folder for the code snippet\n",
    "    3. create a repo for this project\n",
    "    4. "
   ]
  },
  {
   "cell_type": "code",
   "execution_count": 112,
   "metadata": {},
   "outputs": [],
   "source": [
    "import sys\n",
    "import pandas as pd\n",
    "import requests\n",
    "import urllib.request\n",
    "import time\n",
    "from bs4 import BeautifulSoup\n",
    "import numpy as np\n",
    "from urllib.request import urlopen\n",
    "import string\n",
    "import re\n",
    "import unicodedata\n",
    "import datetime as dt\n"
   ]
  },
  {
   "cell_type": "code",
   "execution_count": 2,
   "metadata": {},
   "outputs": [],
   "source": [
    "'''\n",
    "Get NBA team names and put them in a list format\n",
    "'''\n",
    "nba_tables = pd.read_html('https://en.wikipedia.org/wiki/National_Basketball_Association#Teams', index_col=0, header=0)\n",
    "teams = nba_tables[3]\n",
    "teams.reset_index(inplace=True)\n",
    "teams = teams[teams.Team != 'Western Conference']\n",
    "teams = teams.iloc[1:, 1:-1]\n",
    "teams_list = list(teams.Team)\n",
    "clean_teams = [team.replace(' ', '_') for team in teams_list]"
   ]
  },
  {
   "cell_type": "code",
   "execution_count": 15,
   "metadata": {},
   "outputs": [],
   "source": [
    "nba_players = []"
   ]
  },
  {
   "cell_type": "code",
   "execution_count": 16,
   "metadata": {
    "tags": []
   },
   "outputs": [
    {
     "output_type": "stream",
     "name": "stdout",
     "text": "CPU times: user 23.1 s, sys: 221 ms, total: 23.3 s\nWall time: 31.7 s\n"
    }
   ],
   "source": [
    "'''\n",
    "Get roster table from each team's wiki page\n",
    "'''\n",
    "\n",
    "%%time \n",
    "for team in clean_teams:\n",
    "\turl = f'https://en.wikipedia.org/wiki/{team}'\n",
    "\thtml = urlopen(url)\n",
    "\tsoup = BeautifulSoup(html, 'lxml')\n",
    "\ttables = soup.find_all('table', {\"class\": \"toccolours\"})\n",
    "\ttable = tables[0]\n",
    "\ttbody = table.find_all('tbody')[0]\n",
    "\tactualtable = tbody.find_all('table')[0]\n",
    "\tactualrows = actualtable.find_all('tr')[1:]\n",
    "\tfor tr in actualrows:\n",
    "\t\ttd = tr.find_all('td')\n",
    "\t\trow = [unicodedata.normalize('NFKD', i.text.strip()) for i in td]   # gets rid of the weird \\x0 spaces\n",
    "\t\trow.append(team.replace('_', ' '))          # add column for team.  may just want to use 2nd index later \n",
    "\t\tnba_players.append(row)"
   ]
  },
  {
   "cell_type": "code",
   "execution_count": 14,
   "metadata": {},
   "outputs": [],
   "source": [
    "headers = ['position', 'number', 'name', 'height', 'weight', 'dob', 'college', 'team']"
   ]
  },
  {
   "cell_type": "code",
   "execution_count": 17,
   "metadata": {},
   "outputs": [],
   "source": [
    "nba_df = pd.DataFrame(data=nba_players, columns=headers)"
   ]
  },
  {
   "cell_type": "code",
   "execution_count": 42,
   "metadata": {},
   "outputs": [],
   "source": [
    "nba_df.dob = nba_df.dob.str.replace('–', '-')       # need to find a way around those long hyphens besides manually\n",
    "nba_df.dob = pd.to_datetime(nba_df.dob)"
   ]
  },
  {
   "cell_type": "code",
   "execution_count": 75,
   "metadata": {},
   "outputs": [],
   "source": [
    "nba_df['height_in'] = nba_df['height'].apply(lambda x: x.split('(')[0])\n",
    "nba_df.height_in = nba_df['height'].apply(lambda x: (int(x.split(' ')[0]) * 12) + (int(x.split(' ')[2])))\n",
    "nba_df['weight_int'] = nba_df['weight'].apply(lambda x: int(x.split(' ')[0]))\n",
    "nba_df['bmi'] = (703 * nba_df.weight_int) / (nba_df.height_in**2)"
   ]
  },
  {
   "cell_type": "code",
   "execution_count": 245,
   "metadata": {},
   "outputs": [
    {
     "output_type": "execute_result",
     "data": {
      "text/plain": "team\nMinnesota Timberwolves   1996-02-04 13:30:00.000000000\nAtlanta Hawks            1995-11-03 16:00:00.000000000\nCharlotte Hornets        1995-07-21 07:30:00.000000000\nMemphis Grizzlies        1995-07-03 05:38:49.411764736\nPhoenix Suns             1995-06-25 09:00:00.000000000\nNew York Knicks          1995-06-03 22:35:17.647058816\nChicago Bulls            1995-04-11 09:52:56.470588288\nBoston Celtics           1994-12-30 00:00:00.000000000\nCleveland Cavaliers      1994-11-22 18:21:10.588235264\nWashington Wizards       1994-11-19 00:00:00.000000000\nOklahoma City Thunder    1994-10-29 12:42:21.176470528\nGolden State Warriors    1994-10-12 12:55:23.076923136\nDetroit Pistons          1994-10-11 11:17:38.823529472\nPortland Trail Blazers   1994-09-27 09:52:56.470588288\nIndiana Pacers           1994-08-21 08:28:14.117647104\nDenver Nuggets           1994-07-18 14:07:03.529411712\nNew Orleans Pelicans     1994-06-27 18:40:00.000000000\nUtah Jazz                1994-01-11 08:28:14.117647104\nSacramento Kings         1993-12-19 07:03:31.764705920\nOrlando Magic            1993-12-09 21:10:35.294117632\nToronto Raptors          1993-11-21 22:35:17.647058816\nSan Antonio Spurs        1993-09-11 00:00:00.000000000\nPhiladelphia 76ers       1993-07-19 15:31:45.882352896\nBrooklyn Nets            1992-12-16 18:17:08.571428608\nMiami Heat               1992-12-02 00:00:00.000000000\nDallas Mavericks         1992-09-28 10:40:00.000000000\nLos Angeles Clippers     1992-04-22 00:00:00.000000000\nLos Angeles Lakers       1991-03-05 13:20:00.000000000\nMilwaukee Bucks          1990-11-05 12:42:21.176470528\nHouston Rockets          1990-01-09 11:17:38.823529472\nName: dob_ns, dtype: datetime64[ns]"
     },
     "metadata": {},
     "execution_count": 245
    }
   ],
   "source": [
    "'''\n",
    "YOUNGEST TEAM IN NBA - METHOD #1: \n",
    "converts date of birth to nanoseconds in order to run the mean, then converts back to dt\n",
    "'''\n",
    "nba_df['dob_ns'] = nba_df.dob.values.astype(np.int64)\n",
    "pd.to_datetime(nba_df.groupby(by='team')['dob_ns'].mean()).sort_values(ascending=False)"
   ]
  },
  {
   "cell_type": "code",
   "execution_count": null,
   "metadata": {},
   "outputs": [],
   "source": [
    "'''\n",
    "YOUNGEST TEAM IN NBA - METHOD #2: \n",
    "subtracts each player's DoB from right now which creates a timedelta object, then calculate a year figure in standard int format\n",
    "'''\n",
    "nba_df['current_age'] = nba_df.dob.apply(lambda x: (dt.datetime.now() - x).days / 365.25)"
   ]
  },
  {
   "cell_type": "code",
   "execution_count": 262,
   "metadata": {},
   "outputs": [
    {
     "output_type": "execute_result",
     "data": {
      "text/plain": "team\nMinnesota Timberwolves    24.565195\nAtlanta Hawks             24.819530\nCharlotte Hornets         25.107974\nMemphis Grizzlies         25.157467\nPhoenix Suns              25.178987\nName: current_age, dtype: float64"
     },
     "metadata": {},
     "execution_count": 262
    }
   ],
   "source": [
    "# Top 5 youngest teams\n",
    "nba_df.groupby('team')['current_age'].mean().sort_values(ascending=True).head()"
   ]
  },
  {
   "cell_type": "code",
   "execution_count": 263,
   "metadata": {},
   "outputs": [
    {
     "output_type": "execute_result",
     "data": {
      "text/plain": "team\nHouston Rockets         30.635262\nMilwaukee Bucks         29.813746\nLos Angeles Lakers      29.485132\nLos Angeles Clippers    28.353183\nDallas Mavericks        27.916648\nName: current_age, dtype: float64"
     },
     "metadata": {},
     "execution_count": 263
    }
   ],
   "source": [
    "# Top 5 oldest teams\n",
    "nba_df.groupby('team')['current_age'].mean().sort_values(ascending=False).head()"
   ]
  },
  {
   "cell_type": "code",
   "execution_count": 255,
   "metadata": {},
   "outputs": [
    {
     "output_type": "execute_result",
     "data": {
      "text/plain": "team\nDenver Nuggets            225.588235\nMilwaukee Bucks           225.235294\nBoston Celtics            224.823529\nPortland Trail Blazers    223.882353\nCleveland Cavaliers       222.235294\nName: weight_int, dtype: float64"
     },
     "metadata": {},
     "execution_count": 255
    }
   ],
   "source": [
    "# Top 5 heaviest teams\n",
    "nba_df.groupby('team')['weight_int'].mean().sort_values(ascending=False).head()"
   ]
  },
  {
   "cell_type": "code",
   "execution_count": 256,
   "metadata": {},
   "outputs": [
    {
     "output_type": "execute_result",
     "data": {
      "text/plain": "team\nPortland Trail Blazers    79.588235\nDenver Nuggets            79.529412\nChicago Bulls             79.176471\nSan Antonio Spurs         79.000000\nMemphis Grizzlies         78.882353\nName: height_in, dtype: float64"
     },
     "metadata": {},
     "execution_count": 256
    }
   ],
   "source": [
    "# Top 5 tallest teams\n",
    "nba_df.groupby('team')['height_in'].mean().sort_values(ascending=False).head()"
   ]
  },
  {
   "cell_type": "code",
   "execution_count": 260,
   "metadata": {},
   "outputs": [
    {
     "output_type": "execute_result",
     "data": {
      "text/plain": "college\nKentucky          28\nDuke              24\nNorth Carolina    14\nUCLA              13\nTexas             11\nKansas            11\nFrance            10\nMichigan          10\nIndiana            9\nArizona            9\ndtype: int64"
     },
     "metadata": {},
     "execution_count": 260
    }
   ],
   "source": [
    "# Top 10 colleges by representation\n",
    "nba_df.pivot_table(index='college', aggfunc='size').sort_values(ascending=False).head(10)"
   ]
  }
 ],
 "metadata": {
  "kernelspec": {
   "display_name": "Python 3",
   "language": "python",
   "name": "python3"
  },
  "language_info": {
   "codemirror_mode": {
    "name": "ipython",
    "version": 3
   },
   "file_extension": ".py",
   "mimetype": "text/x-python",
   "name": "python",
   "nbconvert_exporter": "python",
   "pygments_lexer": "ipython3",
   "version": "3.8.3-final"
  }
 },
 "nbformat": 4,
 "nbformat_minor": 4
}