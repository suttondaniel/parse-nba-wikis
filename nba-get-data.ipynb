{
 "cells": [
  {
   "cell_type": "code",
   "execution_count": 18,
   "metadata": {},
   "outputs": [],
   "source": [
    "import re\n",
    "import time\n",
    "import tabulate"
   ]
  },
  {
   "cell_type": "code",
   "execution_count": 1,
   "metadata": {},
   "outputs": [],
   "source": [
    "import pandas as pd\n",
    "import requests\n",
    "import urllib.request\n",
    "from bs4 import BeautifulSoup\n",
    "import numpy as np\n",
    "import unicodedata\n",
    "import datetime as dt\n",
    "import lxml\n",
    "from urllib.request import urlopen\n",
    "\n",
    "'''\n",
    "Get NBA team names and put them in a list format\n",
    "'''\n",
    "nba_tables = pd.read_html('https://en.wikipedia.org/wiki/National_Basketball_Association#Teams', index_col=0, header=0)\n",
    "teams = nba_tables[3]\n"
   ]
  },
  {
   "cell_type": "code",
   "execution_count": 4,
   "metadata": {},
   "outputs": [],
   "source": [
    "teams.reset_index(inplace=True)\n",
    "teams = teams[teams.Team != 'Western Conference']\n",
    "teams = teams[teams.Team != 'Eastern Conference']\n",
    "\n",
    "teams_list = list(teams.Team)\n",
    "clean_teams = [team.replace(' ', '_') for team in teams_list]\n"
   ]
  },
  {
   "cell_type": "code",
   "execution_count": 5,
   "metadata": {},
   "outputs": [],
   "source": []
  },
  {
   "cell_type": "code",
   "execution_count": 6,
   "metadata": {},
   "outputs": [
    {
     "data": {
      "text/plain": [
       "['Boston_Celtics',\n",
       " 'Brooklyn_Nets',\n",
       " 'New_York_Knicks',\n",
       " 'Philadelphia_76ers',\n",
       " 'Toronto_Raptors',\n",
       " 'Chicago_Bulls',\n",
       " 'Cleveland_Cavaliers',\n",
       " 'Detroit_Pistons',\n",
       " 'Indiana_Pacers',\n",
       " 'Milwaukee_Bucks',\n",
       " 'Atlanta_Hawks',\n",
       " 'Charlotte_Hornets',\n",
       " 'Miami_Heat',\n",
       " 'Orlando_Magic',\n",
       " 'Washington_Wizards',\n",
       " 'Denver_Nuggets',\n",
       " 'Minnesota_Timberwolves',\n",
       " 'Oklahoma_City_Thunder',\n",
       " 'Portland_Trail_Blazers',\n",
       " 'Utah_Jazz',\n",
       " 'Golden_State_Warriors',\n",
       " 'Los_Angeles_Clippers',\n",
       " 'Los_Angeles_Lakers',\n",
       " 'Phoenix_Suns',\n",
       " 'Sacramento_Kings',\n",
       " 'Dallas_Mavericks',\n",
       " 'Houston_Rockets',\n",
       " 'Memphis_Grizzlies',\n",
       " 'New_Orleans_Pelicans',\n",
       " 'San_Antonio_Spurs']"
      ]
     },
     "execution_count": 6,
     "metadata": {},
     "output_type": "execute_result"
    }
   ],
   "source": [
    "clean_teams"
   ]
  },
  {
   "cell_type": "code",
   "execution_count": 7,
   "metadata": {},
   "outputs": [],
   "source": [
    "nba_players = []"
   ]
  },
  {
   "cell_type": "code",
   "execution_count": 8,
   "metadata": {
    "tags": []
   },
   "outputs": [],
   "source": [
    "'''\n",
    "Get roster table from each team's wiki page\n",
    "'''\n",
    "for team in clean_teams:\n",
    "    url = f'https://en.wikipedia.org/wiki/{team}'\n",
    "    html = urlopen(url)\n",
    "    soup = BeautifulSoup(html, 'lxml')\n",
    "    tables = soup.find_all('table', {\"class\": \"toccolours\"})\n",
    "    table = tables[0]\n",
    "    tbody = table.find_all('tbody')[0]\n",
    "    actualtable = tbody.find_all('table')[0]\n",
    "    actualrows = actualtable.find_all('tr')[1:]\n",
    "    for tr in actualrows:\n",
    "        td = tr.find_all('td')\n",
    "        row = [unicodedata.normalize('NFKD', i.text.strip()) for i in td]   # gets rid of the weird \\x0 spaces\n",
    "        row.append(team.replace('_', ' '))          # add column for team.  may just want to use 2nd index later \n",
    "        nba_players.append(row)"
   ]
  },
  {
   "cell_type": "code",
   "execution_count": 25,
   "metadata": {},
   "outputs": [],
   "source": [
    "headers = ['position', 'number', 'name', 'height', 'weight', 'dob', 'college', 'team']\n",
    "nba_df = pd.DataFrame(data=nba_players, columns=headers)\n",
    "nba_df.dob = nba_df.dob.str.replace('–', '-')       # need to find a way around those long hyphens besides manually\n",
    "nba_df.dob = pd.to_datetime(nba_df.dob)\n"
   ]
  },
  {
   "cell_type": "code",
   "execution_count": 27,
   "metadata": {},
   "outputs": [],
   "source": [
    "#teamz.head(5).to_markdown(tablefmt='grid')\n",
    "\n",
    "#nba_df.head(3).to_markdown()"
   ]
  },
  {
   "cell_type": "code",
   "execution_count": 52,
   "metadata": {},
   "outputs": [
    {
     "data": {
      "text/plain": [
       "'| team                  |      dob_ns |\\n|:----------------------|------------:|\\n| Oklahoma City Thunder | 9.23845e+17 |\\n| San Antonio Spurs     | 9.10374e+17 |\\n| Orlando Magic         | 9.06307e+17 |\\n| Indiana Pacers        | 8.98105e+17 |\\n| Houston Rockets       | 8.91841e+17 |'"
      ]
     },
     "execution_count": 52,
     "metadata": {},
     "output_type": "execute_result"
    }
   ],
   "source": [
    "'''\n",
    "YOUNGEST TEAM IN NBA - METHOD #1: \n",
    "converts date of birth to nanoseconds in order to run the mean, then converts back to dt\n",
    "'''\n",
    "nba_df['dob_ns'] = nba_df.dob.values.astype(np.int64)\n",
    "pd.to_datetime(nba_df.groupby(by='team')['dob_ns'].mean()).sort_values(ascending=False)\n"
   ]
  },
  {
   "cell_type": "code",
   "execution_count": 56,
   "metadata": {},
   "outputs": [],
   "source": [
    "'''\n",
    "YOUNGEST TEAM IN NBA - METHOD #2: \n",
    "subtracts each player's DoB from right now which creates a timedelta object, then calculate a year figure in int format\n",
    "'''\n",
    "nba_df['current_age'] = nba_df.dob.apply(lambda x: (dt.datetime.now() - x).days / 365.25)\n",
    "youngest_teams = nba_df.groupby('team')['current_age'].mean()\n",
    "youngest_teams = youngest_teams.sort_values(ascending=True).head(5)\n"
   ]
  },
  {
   "cell_type": "code",
   "execution_count": 60,
   "metadata": {},
   "outputs": [],
   "source": [
    "youngest_teams = pd.DataFrame(data=youngest_teams)"
   ]
  },
  {
   "cell_type": "code",
   "execution_count": 63,
   "metadata": {},
   "outputs": [],
   "source": [
    "youngest_teams.current_age = youngest_teams.current_age.round(2)"
   ]
  },
  {
   "cell_type": "code",
   "execution_count": 64,
   "metadata": {},
   "outputs": [
    {
     "data": {
      "text/html": [
       "<div>\n",
       "<style scoped>\n",
       "    .dataframe tbody tr th:only-of-type {\n",
       "        vertical-align: middle;\n",
       "    }\n",
       "\n",
       "    .dataframe tbody tr th {\n",
       "        vertical-align: top;\n",
       "    }\n",
       "\n",
       "    .dataframe thead th {\n",
       "        text-align: right;\n",
       "    }\n",
       "</style>\n",
       "<table border=\"1\" class=\"dataframe\">\n",
       "  <thead>\n",
       "    <tr style=\"text-align: right;\">\n",
       "      <th></th>\n",
       "      <th>current_age</th>\n",
       "    </tr>\n",
       "    <tr>\n",
       "      <th>team</th>\n",
       "      <th></th>\n",
       "    </tr>\n",
       "  </thead>\n",
       "  <tbody>\n",
       "    <tr>\n",
       "      <th>Oklahoma City Thunder</th>\n",
       "      <td>23.35</td>\n",
       "    </tr>\n",
       "    <tr>\n",
       "      <th>San Antonio Spurs</th>\n",
       "      <td>23.78</td>\n",
       "    </tr>\n",
       "    <tr>\n",
       "      <th>Orlando Magic</th>\n",
       "      <td>23.91</td>\n",
       "    </tr>\n",
       "    <tr>\n",
       "      <th>Indiana Pacers</th>\n",
       "      <td>24.17</td>\n",
       "    </tr>\n",
       "    <tr>\n",
       "      <th>Houston Rockets</th>\n",
       "      <td>24.37</td>\n",
       "    </tr>\n",
       "  </tbody>\n",
       "</table>\n",
       "</div>"
      ],
      "text/plain": [
       "                       current_age\n",
       "team                              \n",
       "Oklahoma City Thunder        23.35\n",
       "San Antonio Spurs            23.78\n",
       "Orlando Magic                23.91\n",
       "Indiana Pacers               24.17\n",
       "Houston Rockets              24.37"
      ]
     },
     "execution_count": 64,
     "metadata": {},
     "output_type": "execute_result"
    }
   ],
   "source": [
    "youngest_teams.to_markdown()"
   ]
  },
  {
   "cell_type": "code",
   "execution_count": 52,
   "metadata": {},
   "outputs": [
    {
     "data": {
      "text/plain": [
       "team\n",
       "Oklahoma City Thunder    23.601884\n",
       "Memphis Grizzlies        24.079398\n",
       "San Antonio Spurs        24.211620\n",
       "Orlando Magic            24.418036\n",
       "Detroit Pistons          24.463552\n",
       "Name: current_age, dtype: float64"
      ]
     },
     "execution_count": 52,
     "metadata": {},
     "output_type": "execute_result"
    }
   ],
   "source": [
    "# Top 5 youngest teams\n",
    "#nba_df.groupby(by=\"team\")['current_age'].mean().sort_values()"
   ]
  },
  {
   "cell_type": "code",
   "execution_count": 53,
   "metadata": {},
   "outputs": [
    {
     "data": {
      "text/plain": [
       "team\n",
       "Los Angeles Lakers    30.184483\n",
       "Milwaukee Bucks       29.009069\n",
       "Miami Heat            28.908483\n",
       "Brooklyn Nets         28.655957\n",
       "Phoenix Suns          28.266538\n",
       "Name: current_age, dtype: float64"
      ]
     },
     "execution_count": 53,
     "metadata": {},
     "output_type": "execute_result"
    }
   ],
   "source": [
    "# Top 5 oldest teams\n",
    "nba_df.groupby('team')['current_age'].mean().sort_values(ascending=False).head()"
   ]
  },
  {
   "cell_type": "code",
   "execution_count": null,
   "metadata": {},
   "outputs": [],
   "source": [
    "nba_df['height_in'] = nba_df['height'].apply(lambda x: x.split('(')[0])\n",
    "nba_df.height_in = nba_df['height'].apply(lambda x: (int(x.split(' ')[0]) * 12) + (int(x.split(' ')[2])))\n",
    "nba_df['weight_int'] = nba_df['weight'].apply(lambda x: int(x.split(' ')[0]))\n",
    "nba_df['bmi'] = (703 * nba_df.weight_int) / (nba_df.height_in**2)"
   ]
  },
  {
   "cell_type": "code",
   "execution_count": 54,
   "metadata": {},
   "outputs": [
    {
     "data": {
      "text/plain": [
       "team\n",
       "Golden State Warriors     209.411765\n",
       "Indiana Pacers            209.875000\n",
       "Toronto Raptors           209.941176\n",
       "Minnesota Timberwolves    210.437500\n",
       "Oklahoma City Thunder     210.764706\n",
       "Name: weight_int, dtype: float64"
      ]
     },
     "execution_count": 54,
     "metadata": {},
     "output_type": "execute_result"
    }
   ],
   "source": [
    "# Top 5 lightest teams\n",
    "nba_df.groupby('team')['weight_int'].mean().sort_values(ascending=True).head()"
   ]
  },
  {
   "cell_type": "code",
   "execution_count": 55,
   "metadata": {},
   "outputs": [
    {
     "data": {
      "text/plain": [
       "team\n",
       "Utah Jazz                 224.437500\n",
       "Orlando Magic             223.625000\n",
       "Brooklyn Nets             221.647059\n",
       "Miami Heat                221.235294\n",
       "Milwaukee Bucks           220.875000\n",
       "Boston Celtics            220.294118\n",
       "Dallas Mavericks          220.117647\n",
       "Phoenix Suns              217.764706\n",
       "Philadelphia 76ers        217.705882\n",
       "Sacramento Kings          217.500000\n",
       "Washington Wizards        216.882353\n",
       "Chicago Bulls             216.647059\n",
       "San Antonio Spurs         216.647059\n",
       "Detroit Pistons           216.000000\n",
       "Cleveland Cavaliers       215.882353\n",
       "Denver Nuggets            215.647059\n",
       "Los Angeles Lakers        215.470588\n",
       "New York Knicks           215.470588\n",
       "Los Angeles Clippers      215.235294\n",
       "New Orleans Pelicans      214.333333\n",
       "Houston Rockets           213.875000\n",
       "Atlanta Hawks             212.750000\n",
       "Memphis Grizzlies         212.176471\n",
       "Portland Trail Blazers    211.736842\n",
       "Charlotte Hornets         211.470588\n",
       "Oklahoma City Thunder     210.764706\n",
       "Minnesota Timberwolves    210.437500\n",
       "Toronto Raptors           209.941176\n",
       "Indiana Pacers            209.875000\n",
       "Golden State Warriors     209.411765\n",
       "Name: weight_int, dtype: float64"
      ]
     },
     "execution_count": 55,
     "metadata": {},
     "output_type": "execute_result"
    }
   ],
   "source": [
    "# Top 5 heaviest teams\n",
    "nba_df.groupby('team')['weight_int'].mean().sort_values(ascending=False)"
   ]
  },
  {
   "cell_type": "code",
   "execution_count": 58,
   "metadata": {},
   "outputs": [
    {
     "data": {
      "text/plain": [
       "team\n",
       "Orlando Magic            79.625000\n",
       "Sacramento Kings         79.375000\n",
       "Oklahoma City Thunder    79.352941\n",
       "Washington Wizards       78.823529\n",
       "Charlotte Hornets        78.764706\n",
       "Detroit Pistons          78.687500\n",
       "Dallas Mavericks         78.588235\n",
       "Memphis Grizzlies        78.529412\n",
       "Chicago Bulls            78.529412\n",
       "New York Knicks          78.470588\n",
       "Name: height_in, dtype: float64"
      ]
     },
     "execution_count": 58,
     "metadata": {},
     "output_type": "execute_result"
    }
   ],
   "source": [
    "# Top 5 tallest teams\n",
    "nba_df.groupby('team')['height_in'].mean().sort_values(ascending=False).head(5)"
   ]
  },
  {
   "cell_type": "code",
   "execution_count": 57,
   "metadata": {},
   "outputs": [
    {
     "data": {
      "text/plain": [
       "college\n",
       "Kentucky               28\n",
       "Duke                   21\n",
       "Texas                  14\n",
       "North Carolina         12\n",
       "UCLA                   12\n",
       "Kansas                 10\n",
       "Michigan               10\n",
       "Southern California    10\n",
       "Washington             10\n",
       "Arizona                 9\n",
       "dtype: int64"
      ]
     },
     "execution_count": 57,
     "metadata": {},
     "output_type": "execute_result"
    }
   ],
   "source": [
    "# Top 10 colleges by representation\n",
    "nba_df.pivot_table(index='college', aggfunc='size').sort_values(ascending=False).head(10)"
   ]
  },
  {
   "cell_type": "code",
   "execution_count": 22,
   "metadata": {},
   "outputs": [],
   "source": [
    "nba_df.to_csv('nba_df.csv')"
   ]
  },
  {
   "cell_type": "code",
   "execution_count": 3,
   "metadata": {},
   "outputs": [],
   "source": [
    "nba_df = pd.read_csv('nba_df.csv')"
   ]
  }
 ],
 "metadata": {
  "kernelspec": {
   "display_name": "Python 3.9.12 ('base')",
   "language": "python",
   "name": "python3"
  },
  "language_info": {
   "codemirror_mode": {
    "name": "ipython",
    "version": 3
   },
   "file_extension": ".py",
   "mimetype": "text/x-python",
   "name": "python",
   "nbconvert_exporter": "python",
   "pygments_lexer": "ipython3",
   "version": "3.9.12"
  },
  "vscode": {
   "interpreter": {
    "hash": "19d1d53a962d236aa061289c2ac16dc8e6d9648c89fe79f459ae9a3493bc67b4"
   }
  }
 },
 "nbformat": 4,
 "nbformat_minor": 4
}
