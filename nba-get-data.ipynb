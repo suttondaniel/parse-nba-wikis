{
 "cells": [
  {
   "cell_type": "code",
   "execution_count": null,
   "metadata": {},
   "outputs": [],
   "source": [
    "# import re\n",
    "# import time\n",
    "# import tabulate"
   ]
  },
  {
   "cell_type": "code",
   "execution_count": 1,
   "metadata": {},
   "outputs": [],
   "source": [
    "import pandas as pd\n",
    "import numpy as np\n",
    "\n",
    "from get_data import get_nba_teams, get_nba_players\n",
    "from clean_data import add_and_adjust_cols\n",
    "\n",
    "nba_teams = get_nba_teams()\n",
    "nba_players = get_nba_players(nba_teams)\n",
    "nba_df = add_and_adjust_cols(nba_players)\n"
   ]
  },
  {
   "cell_type": "markdown",
   "metadata": {},
   "source": [
    "How many players are currently on an NBA roster?  "
   ]
  },
  {
   "cell_type": "code",
   "execution_count": 2,
   "metadata": {
    "tags": []
   },
   "outputs": [
    {
     "data": {
      "text/plain": [
       "517"
      ]
     },
     "execution_count": 2,
     "metadata": {},
     "output_type": "execute_result"
    }
   ],
   "source": [
    "nba_df.shape[0]"
   ]
  },
  {
   "cell_type": "markdown",
   "metadata": {},
   "source": [
    "Who is the youngest team in the NBA?  In other words, which team has the youngest roster on average? "
   ]
  },
  {
   "cell_type": "code",
   "execution_count": 3,
   "metadata": {},
   "outputs": [
    {
     "data": {
      "text/plain": [
       "team\n",
       "Oklahoma City Thunder    23.387680\n",
       "San Antonio Spurs        23.814547\n",
       "Orlando Magic            23.943418\n",
       "Indiana Pacers           24.203331\n",
       "Houston Rockets          24.401812\n",
       "Name: current_age, dtype: float64"
      ]
     },
     "execution_count": 3,
     "metadata": {},
     "output_type": "execute_result"
    }
   ],
   "source": [
    "nba_df.groupby('team')['current_age'].mean().sort_values(ascending=True).head(5)"
   ]
  },
  {
   "cell_type": "code",
   "execution_count": null,
   "metadata": {},
   "outputs": [],
   "source": [
    "'''\n",
    "YOUNGEST TEAM IN NBA - METHOD #2: \n",
    "subtracts each player's DoB from right now which creates a timedelta object, then calculate a year figure in int format\n",
    "'''\n",
    "nba_df['current_age'] = nba_df.dob.apply(lambda x: (dt.datetime.now() - x).days / 365.25)\n",
    "youngest_teams = nba_df.groupby('team')['current_age'].mean().sort_values(ascending=True).head(5)\n",
    "youngest_teams = youngest_teams.sort_values(ascending=True).head(5)\n"
   ]
  },
  {
   "cell_type": "code",
   "execution_count": null,
   "metadata": {},
   "outputs": [],
   "source": [
    "# youngest teams\n",
    "youngest_teams = nba_df.groupby('team')['current_age'].mean().sort_values(ascending=True).head()\n",
    "youngest_teams = pd.DataFrame(data=youngest_teams)\n",
    "\n"
   ]
  },
  {
   "cell_type": "code",
   "execution_count": null,
   "metadata": {},
   "outputs": [],
   "source": [
    "import plotly.express as px\n",
    "data_canada = px.data.gapminder().query(\"country == 'Canada'\")\n",
    "fig = px.bar(data_canada, x='year', y='pop')\n",
    "fig.show()"
   ]
  },
  {
   "cell_type": "code",
   "execution_count": null,
   "metadata": {},
   "outputs": [],
   "source": [
    "youngest_teams.plot(type='bar')"
   ]
  },
  {
   "cell_type": "code",
   "execution_count": null,
   "metadata": {},
   "outputs": [],
   "source": [
    "\n",
    "\n",
    "# oldest teams\n",
    "nba_df.groupby('team')['current_age'].mean().sort_values(ascending=False).head()\n",
    "\n",
    "# lightest teams\n",
    "nba_df.groupby('team')['weight_int'].mean().sort_values(ascending=True).head()\n",
    "\n",
    "# heaviest teams\n",
    "nba_df.groupby('team')['weight_int'].mean().sort_values(ascending=False).head()\n",
    "\n",
    "# tallest teams\n",
    "nba_df.groupby('team')['height_in'].mean().sort_values(ascending=False).head()\n",
    "\n",
    "# shortest teams\n",
    "nba_df.groupby('team')['height_in'].mean().sort_values(ascending=True).head()\n",
    "\n",
    "# Top 10 colleges by representation\n",
    "nba_df.pivot_table(index='college', aggfunc='size').sort_values(ascending=False).head(10)"
   ]
  },
  {
   "cell_type": "code",
   "execution_count": null,
   "metadata": {},
   "outputs": [],
   "source": [
    "# for printing to markdown purposes: \n",
    "youngest_teams = pd.DataFrame(data=youngest_teams)\n",
    "youngest_teams.current_age = youngest_teams.current_age.round(2)\n",
    "youngest_teams.to_markdown()"
   ]
  },
  {
   "cell_type": "code",
   "execution_count": null,
   "metadata": {},
   "outputs": [],
   "source": [
    "nba_df = pd.read_csv('nba_df.csv')"
   ]
  },
  {
   "cell_type": "code",
   "execution_count": null,
   "metadata": {},
   "outputs": [],
   "source": [
    "'''\n",
    "YOUNGEST TEAM IN NBA - METHOD #1: \n",
    "converts date of birth to nanoseconds in order to run the mean, then converts back to dt\n",
    "'''\n",
    "nba_df['dob_ns'] = nba_df.dob.values.astype(np.int64)\n",
    "pd.to_datetime(nba_df.groupby(by='team')['dob_ns'].mean()).sort_values(ascending=False)\n"
   ]
  },
  {
   "cell_type": "code",
   "execution_count": null,
   "metadata": {},
   "outputs": [],
   "source": [
    "nba_df.head(1)"
   ]
  },
  {
   "cell_type": "code",
   "execution_count": null,
   "metadata": {},
   "outputs": [],
   "source": [
    "# >>> df.groupby('ID')[['Val1','Val2']].corr()\n",
    "#nba_df.head(1)\n",
    "#nba_df.groupby('team')[['current_age', 'weight_int']].corr()\n",
    "nba_df.corr()"
   ]
  }
 ],
 "metadata": {
  "kernelspec": {
   "display_name": "Python 3.9.12 ('base')",
   "language": "python",
   "name": "python3"
  },
  "language_info": {
   "codemirror_mode": {
    "name": "ipython",
    "version": 3
   },
   "file_extension": ".py",
   "mimetype": "text/x-python",
   "name": "python",
   "nbconvert_exporter": "python",
   "pygments_lexer": "ipython3",
   "version": "3.9.12"
  },
  "vscode": {
   "interpreter": {
    "hash": "19d1d53a962d236aa061289c2ac16dc8e6d9648c89fe79f459ae9a3493bc67b4"
   }
  }
 },
 "nbformat": 4,
 "nbformat_minor": 4
}
